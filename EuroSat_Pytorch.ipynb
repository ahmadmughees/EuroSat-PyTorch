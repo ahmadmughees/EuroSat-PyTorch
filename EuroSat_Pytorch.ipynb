{
  "nbformat": 4,
  "nbformat_minor": 0,
  "metadata": {
    "colab": {
      "name": "EuroSat_Pytorch.ipynb",
      "provenance": [],
      "authorship_tag": "ABX9TyPpNNUeuVZpoIb0zZADLjZ/",
      "include_colab_link": true
    },
    "kernelspec": {
      "name": "python3",
      "display_name": "Python 3"
    },
    "accelerator": "GPU"
  },
  "cells": [
    {
      "cell_type": "markdown",
      "metadata": {
        "id": "view-in-github",
        "colab_type": "text"
      },
      "source": [
        "<a href=\"https://colab.research.google.com/github/mugheesahmad/EuroSat-PyTorch/blob/master/EuroSat_Pytorch.ipynb\" target=\"_parent\"><img src=\"https://colab.research.google.com/assets/colab-badge.svg\" alt=\"Open In Colab\"/></a>"
      ]
    },
    {
      "cell_type": "markdown",
      "metadata": {
        "id": "471-zI0ffkbD",
        "colab_type": "text"
      },
      "source": [
        "**Importing** **Libraries**"
      ]
    },
    {
      "cell_type": "code",
      "metadata": {
        "id": "2v-oPZk7lwdW",
        "colab_type": "code",
        "colab": {}
      },
      "source": [
        "#Importing Libraries\n",
        "from skimage import io\n",
        "import torch\n",
        "from torchvision import models\n",
        "import torchvision\n",
        "import torch.nn as nn\n",
        "import numpy as np\n",
        "import random\n",
        "from IPython.display import clear_output\n",
        "import time\n",
        "import os.path\n",
        "from sklearn.metrics import f1_score\n",
        "import matplotlib.pyplot as plt\n",
        "import torch.optim as optim\n",
        "import torch.optim.lr_scheduler\n",
        "import torch.nn.init\n",
        "from torch.autograd import Variable\n",
        "from sklearn.metrics import accuracy_score\n",
        "from skimage.transform import resize\n",
        "from sklearn.model_selection import train_test_split"
      ],
      "execution_count": 0,
      "outputs": []
    },
    {
      "cell_type": "code",
      "metadata": {
        "id": "04wVNnWbeoEm",
        "colab_type": "code",
        "colab": {}
      },
      "source": [
        "EuroSat_Type = 'RGB'    # use 'RGB' or 'ALL' for type of Eurosat Dataset. Just change in this line. Rest of the code is managed for both type\n",
        "lr = 0.01               # learn_rate\n",
        "milestones = [50,75,90] # multistep scheduler\n",
        "epochs = 100            # no of epochs"
      ],
      "execution_count": 0,
      "outputs": []
    },
    {
      "cell_type": "code",
      "metadata": {
        "id": "nIeCE6YXrynl",
        "colab_type": "code",
        "colab": {}
      },
      "source": [
        "def iloader(path):\n",
        "    image = np.asarray((io.imread(path))/32000,dtype='float32')\n",
        "    return image.transpose(2,0,1)"
      ],
      "execution_count": 0,
      "outputs": []
    },
    {
      "cell_type": "code",
      "metadata": {
        "id": "6O3Qper7obov",
        "colab_type": "code",
        "colab": {}
      },
      "source": [
        "def Load_data():\n",
        "    if EuroSat_Type == 'RGB':\n",
        "      data = torchvision.datasets.DatasetFolder(root=root,loader = iloader, transform=None, extensions = 'jpg')\n",
        "    elif EuroSat_Type == 'ALL':\n",
        "      data = torchvision.datasets.DatasetFolder(root=root,loader = iloader, transform=None, extensions = 'tif')\n",
        "    train_set, val_set = train_test_split(data, test_size=0.2, stratify=data.targets)\n",
        "    #print(np.unique(train_set, return_counts=True))  #uncomment for class IDs\n",
        "    #print(np.unique(val_set, return_counts=True))    #uncomment for class IDs\n",
        "      \n",
        "    train_loader = torch.utils.data.DataLoader(train_set, batch_size=16, shuffle=True, num_workers=3, drop_last = True)\n",
        "    val_loader = torch.utils.data.DataLoader(val_set, batch_size=16, shuffle=True, num_workers=0, drop_last = True)\n",
        "    #test_loader = torch.utils.data.DataLoader(test_set, batch_size=128, shuffle=True, num_workers=0, drop_last = True)\n",
        "    return train_loader, val_loader #,test_loader"
      ],
      "execution_count": 0,
      "outputs": []
    },
    {
      "cell_type": "markdown",
      "metadata": {
        "id": "nfg9TSOZgbvD",
        "colab_type": "text"
      },
      "source": [
        "**Functions for Augmentation**"
      ]
    },
    {
      "cell_type": "code",
      "metadata": {
        "id": "MUn6ClNbsDCU",
        "colab_type": "code",
        "colab": {}
      },
      "source": [
        "def get_random_pos(img, window_shape = [55,55] ):\n",
        "    \"\"\" Extract of 2D random patch of shape window_shape in the image \"\"\"\n",
        "    w, h = window_shape\n",
        "    W, H = img.shape[-2:]\n",
        "    x1 = random.randint(0, W - w - 1)\n",
        "    #x2 = x1 + w\n",
        "    y1 = random.randint(0, H - h - 1)\n",
        "    #y2 = y1 + h\n",
        "    return x1, x1 + w, y1, y1 + h #x1, x2, y1, y2\n",
        "\n",
        "def random_crop_area(img):\n",
        "    x1,x2,y1,y2 = get_random_pos(img)\n",
        "    Sen_Im = img[:, x1:x2,y1:y2]\n",
        "    return resize(Sen_Im,img.shape,anti_aliasing=True)\n",
        "\n",
        "def sigmoid(z):\n",
        "    return 1/(1+np.exp(-z))\n",
        "\n",
        "def cus_aug(data):\n",
        "    data = torch.rot90(data,random.randint(-3,3), dims=random.choice([[3,2],[2,3]]))\n",
        "    if random.random()>0.75:\n",
        "        data = torch.flip(data, dims = random.choice([[2,],[3,],[2,3]]))\n",
        "    pixmis = torch.empty_like(data).random_(data.shape[-1])\n",
        "    pixmis = torch.where(pixmis>(data.shape[-1]/8),torch.ones_like(data),torch.zeros_like(data))\n",
        "    return data* pixmis"
      ],
      "execution_count": 0,
      "outputs": []
    },
    {
      "cell_type": "code",
      "metadata": {
        "id": "OMA3QKW_qe-x",
        "colab_type": "code",
        "colab": {}
      },
      "source": [
        "def Load_model():\n",
        "    model_ft = models.resnet50()#pretrained=True)\n",
        "    num_ftrs = model_ft.fc.in_features\n",
        "    model_ft.fc = nn.Linear(num_ftrs, 10)\n",
        "    if EuroSat_Type == 'RGB':\n",
        "      inBands = 3\n",
        "    elif EuroSat_Type == 'ALL':\n",
        "      inBands = 13\n",
        "    model_ft.conv1 = nn.Conv2d(inBands, 64, kernel_size=7, stride=2, padding = 3, bias = False)\n",
        "    print('Model Loaded')\n",
        "    return model_ft"
      ],
      "execution_count": 0,
      "outputs": []
    },
    {
      "cell_type": "code",
      "metadata": {
        "id": "t0DHlZDMrCjs",
        "colab_type": "code",
        "colab": {}
      },
      "source": [
        "def accuracy(gt_S,pred_S):       \n",
        "    _, alp = torch.max(torch.from_numpy(pred_S), 1)\n",
        "    return accuracy_score(gt_S,np.asarray(alp))#np.mean(F1score)"
      ],
      "execution_count": 0,
      "outputs": []
    },
    {
      "cell_type": "code",
      "metadata": {
        "id": "O1b_BTGsrNQG",
        "colab_type": "code",
        "colab": {}
      },
      "source": [
        "def validation(model, test_,):\n",
        "    model.eval()\n",
        "    #tot_acc=[]\n",
        "    test_iter=0\n",
        "    with torch.no_grad():\n",
        "        for batch_idx, (data, target) in enumerate(test_):\n",
        "            data, target = cus_aug(Variable(data.cuda())), Variable(target.cuda())\n",
        "            output = model(data)\n",
        "            _, pred = torch.max(output, 1)\n",
        "            pred = output.data.cpu().numpy()\n",
        "            gt = target.data.cpu().numpy()\n",
        "            if test_iter==0:\n",
        "                all_pred=pred\n",
        "                all_gt=gt\n",
        "            else:\n",
        "                all_pred=np.vstack((all_pred,pred))\n",
        "                all_gt  =np.vstack((all_gt,gt))\n",
        "\n",
        "            test_iter=test_iter+1\n",
        "        acc=accuracy(all_gt.reshape(all_gt.shape[0] * all_gt.shape[1]),all_pred)\n",
        "        model.train()\n",
        "        return acc#,cm"
      ],
      "execution_count": 0,
      "outputs": []
    },
    {
      "cell_type": "code",
      "metadata": {
        "id": "klA5FBADrdQ2",
        "colab_type": "code",
        "colab": {}
      },
      "source": [
        "def train(net, train_, val_, criterion, optimizer, epochs=None, scheduler=None, weights=None, save_epoch = 10):\n",
        "    losses=[]; acc=[]; mean_losses=[]; val_acc=[]\n",
        "    iter_ = t0 =0\n",
        "    for e in range(1, epochs + 1):\n",
        "        net.train()\n",
        "        for batch_idx, (data, target) in enumerate(train_):\n",
        "            data, target =  cus_aug(Variable(data.cuda())), Variable(target.cuda()),\n",
        "            optimizer.zero_grad()\n",
        "            output = net(data)\n",
        "            loss = criterion(output, target)\n",
        "            loss.backward()\n",
        "            optimizer.step()\n",
        "            losses = np.append(losses,loss.item())\n",
        "            mean_losses = np.append(mean_losses, np.mean(losses[max(0,iter_-100):iter_]))\n",
        "            if iter_ % 600 == 0: #printing after 600 epochs\n",
        "                clear_output()\n",
        "                print('Iteration Number',iter_,'{} seconds'.format(time.time() - t0))\n",
        "                t0 = time.time()\n",
        "                pred = output.data.cpu().numpy()#[0]\n",
        "                pred=sigmoid(pred)\n",
        "                gt = target.data.cpu().numpy()#[0]\n",
        "                acc = np.append(acc,accuracy(gt,pred))\n",
        "                print('Train (epoch {}/{}) [{}/{} ({:.0f}%)]\\tLoss: {:.6f}\\tAccuracy: {}\\tLearning Rate:{}'.format(\n",
        "                    e, epochs, batch_idx, len(train_),\n",
        "                    100. * batch_idx / len(train_), loss.item(), acc[-1],optimizer.param_groups[0]['lr']))\n",
        "                plt.plot(mean_losses) and plt.show()\n",
        "                val_acc = np.append(val_acc,validation(net, val_))\n",
        "                print('validation accuracy : {}'.format(val_acc[-1]))\n",
        "                plt.plot( range(len(acc)) ,acc,'b',label = 'training')\n",
        "                plt.plot( range(len(val_acc)), val_acc,'r--',label = 'validation')\n",
        "                plt.legend() and plt.show()\n",
        "                #print(mylabels[np.where(gt[1,:])[0]])\n",
        "            iter_ += 1\n",
        "            \n",
        "            del(data, target, loss)\n",
        "        if scheduler is not None:\n",
        "           scheduler.step()\n",
        "        if e % save_epoch == 0:\n",
        "            \n",
        "            torch.save(net.state_dict(), '.\\Eurosat{}'.format(e))\n",
        "    return net"
      ],
      "execution_count": 0,
      "outputs": []
    },
    {
      "cell_type": "markdown",
      "metadata": {
        "id": "-dsot4MafMwP",
        "colab_type": "text"
      },
      "source": [
        "# Use 'RGB' or 'ALL' for type of Eurosat Dataset. Read the details about both [here ](https://https://github.com/phelber/EuroSAT)"
      ]
    },
    {
      "cell_type": "markdown",
      "metadata": {
        "id": "aKuM_xkXnVMl",
        "colab_type": "text"
      },
      "source": [
        "Downloading and unzipping EuroSAT database : https://arxiv.org/abs/1709.00029\n",
        "(2500-3000) x 10 x 64 x 64 px RGB Sentinel 2 images.\n",
        "\n",
        "This below mentioned code block for downloading the dataset is taken from the code by [RomainHugues](https://https://github.com/RomainHugues/EuroSat/blob/master/EuroSAT.ipynb)\n"
      ]
    },
    {
      "cell_type": "code",
      "metadata": {
        "id": "xRBhwf-aaavg",
        "colab_type": "code",
        "colab": {}
      },
      "source": [
        "if EuroSat_Type == 'RGB':\n",
        "  data_folder = '/content/sample_data/'\n",
        "  #root = os.path.join(data_folder, '2750/')\n",
        "  root = '2750/'\n",
        "  download_ON = os.path.exists(root)\n",
        "\n",
        "  if not download_ON:\n",
        "    # This can be long...\n",
        "    #os.chdir(data_folder)\n",
        "    os.system('wget http://madm.dfki.de/files/sentinel/EuroSAT.zip') #Just RGB Bands\n",
        "    !unzip EuroSAT.zip\n",
        "    download_ON = True\n",
        "elif EuroSat_Type == 'ALL':\n",
        "    root = 'ds/images/remote_sensing/otherDatasets/sentinel_2/tif/'\n",
        "    download_ON = os.path.exists(root)\n",
        "    if not download_ON:\n",
        "      os.system('wget http://madm.dfki.de/files/sentinel/EuroSATallBands.zip') #All bands\n",
        "      !unzip EuroSATallBands.zip\n",
        "      download_ON = True"
      ],
      "execution_count": 0,
      "outputs": []
    },
    {
      "cell_type": "code",
      "metadata": {
        "id": "W4VZLxZerkFg",
        "colab_type": "code",
        "colab": {
          "base_uri": "https://localhost:8080/",
          "height": 568
        },
        "outputId": "4c9a8ba7-f455-44ee-ae34-4c9b28f9a50e"
      },
      "source": [
        "if __name__ == '__main__': #https://discuss.pytorch.org/t/brokenpipeerror-errno-32-broken-pipe-when-i-run-cifar10-tutorial-py/6224/4   \n",
        "    torch.manual_seed(0)\n",
        "    np.random.seed(0)\n",
        "    torch.cuda.manual_seed(0)\n",
        "    random.seed(0)\n",
        "    print(\"pytorch version\", torch.__version__)\n",
        "    criteria = torch.nn.CrossEntropyLoss()\n",
        "    net = Load_model()\n",
        "    train_loader, val_loader =Load_data()\n",
        "    net=net.cuda()\n",
        "    optimizer = optim.Adam(net.parameters(), lr=lr, betas=(0.9, 0.999), eps=1e-08, weight_decay=0, amsgrad=False)\n",
        "    scheduler = optim.lr_scheduler.MultiStepLR(optimizer, milestones=milestones, gamma=0.1)\n",
        "    net = train(net, train_loader, val_loader, criteria, optimizer, epochs, scheduler)\n",
        "    #test_loader=torch.utils.data.DataLoader(test_loader,batch_size=128)\n",
        "    #test_accuracy = test(net, test_loader)\n",
        "    #print('Test Accuracy: {}'.format(test_accuracy))       \n"
      ],
      "execution_count": 0,
      "outputs": [
        {
          "output_type": "stream",
          "text": [
            "Iteration Number 1800 32.25961780548096 seconds\n",
            "Train (epoch 2/100) [450/1350 (33%)]\tLoss: 1.376774\tAccuracy: 0.5625\tLearning Rate:1.0000000000000003e-05\n"
          ],
          "name": "stdout"
        },
        {
          "output_type": "display_data",
          "data": {
            "image/png": "[encoded data removed]",
            "text/plain": [
              "<Figure size 432x288 with 1 Axes>"
            ]
          },
          "metadata": {
            "tags": []
          }
        },
        {
          "output_type": "stream",
          "text": [
            "validation accuracy : 0.49369436201780414\n"
          ],
          "name": "stdout"
        },
        {
          "output_type": "display_data",
          "data": {
            "image/png": "[encoded data removed]",
            "text/plain": [
              "<Figure size 432x288 with 1 Axes>"
            ]
          },
          "metadata": {
            "tags": []
          }
        }
      ]
    },
    {
      "cell_type": "code",
      "metadata": {
        "id": "2zATjcnTdOxm",
        "colab_type": "code",
        "colab": {}
      },
      "source": [
        ""
      ],
      "execution_count": 0,
      "outputs": []
    }
  ]
}
