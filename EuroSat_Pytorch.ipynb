{
  "nbformat": 4,
  "nbformat_minor": 0,
  "metadata": {
    "colab": {
      "name": "EuroSat_Pytorch.ipynb",
      "provenance": [],
      "authorship_tag": "ABX9TyN1LvGv17uCvQmTkVk9WYHF",
      "include_colab_link": true
    },
    "kernelspec": {
      "name": "python3",
      "display_name": "Python 3"
    },
    "accelerator": "GPU"
  },
  "cells": [
    {
      "cell_type": "markdown",
      "metadata": {
        "id": "view-in-github",
        "colab_type": "text"
      },
      "source": [
        "<a href=\"https://colab.research.google.com/github/mugheesahmad/EuroSat-PyTorch/blob/master/EuroSat_Pytorch.ipynb\" target=\"_parent\"><img src=\"https://colab.research.google.com/assets/colab-badge.svg\" alt=\"Open In Colab\"/></a>"
      ]
    },
    {
      "cell_type": "code",
      "metadata": {
        "id": "2v-oPZk7lwdW",
        "colab_type": "code",
        "colab": {}
      },
      "source": [
        "#Importing Libraries\n",
        "\n",
        "import torch\n",
        "from torchvision import transforms, datasets, models\n",
        "import torchvision\n",
        "import torch.nn as nn\n",
        "import numpy as np\n",
        "from skimage import io\n",
        "import random\n",
        "from IPython.display import clear_output\n",
        "import time\n",
        "import os.path\n",
        "from sklearn.metrics import f1_score\n",
        "import os\n",
        "import glob\n",
        "import matplotlib.pyplot as plt\n",
        "\n",
        "import torch.optim as optim\n",
        "import torch.optim.lr_scheduler\n",
        "import torch.nn.init\n",
        "from torch.autograd import Variable\n",
        "import json\n",
        "import pandas as pd\n",
        "from sklearn.metrics import multilabel_confusion_matrix\n",
        "from sklearn.metrics import accuracy_score\n",
        "from skimage.transform import resize\n",
        "from sklearn.model_selection import train_test_split"
      ],
      "execution_count": 0,
      "outputs": []
    },
    {
      "cell_type": "code",
      "metadata": {
        "id": "aQmjW7Eys5QQ",
        "colab_type": "code",
        "outputId": "3f8b8e20-0294-42e7-b829-48559e430c8d",
        "colab": {
          "base_uri": "https://localhost:8080/",
          "height": 170
        }
      },
      "source": [
        "!pip install rasterio\n",
        "import rasterio"
      ],
      "execution_count": 10,
      "outputs": [
        {
          "output_type": "stream",
          "text": [
            "Requirement already satisfied: rasterio in /usr/local/lib/python3.6/dist-packages (1.1.2)\n",
            "Requirement already satisfied: attrs in /usr/local/lib/python3.6/dist-packages (from rasterio) (19.3.0)\n",
            "Requirement already satisfied: click<8,>=4.0 in /usr/local/lib/python3.6/dist-packages (from rasterio) (7.0)\n",
            "Requirement already satisfied: numpy in /usr/local/lib/python3.6/dist-packages (from rasterio) (1.17.5)\n",
            "Requirement already satisfied: snuggs>=1.4.1 in /usr/local/lib/python3.6/dist-packages (from rasterio) (1.4.7)\n",
            "Requirement already satisfied: cligj>=0.5 in /usr/local/lib/python3.6/dist-packages (from rasterio) (0.5.0)\n",
            "Requirement already satisfied: affine in /usr/local/lib/python3.6/dist-packages (from rasterio) (2.3.0)\n",
            "Requirement already satisfied: click-plugins in /usr/local/lib/python3.6/dist-packages (from rasterio) (1.1.1)\n",
            "Requirement already satisfied: pyparsing>=2.1.6 in /usr/local/lib/python3.6/dist-packages (from snuggs>=1.4.1->rasterio) (2.4.6)\n"
          ],
          "name": "stdout"
        }
      ]
    },
    {
      "cell_type": "markdown",
      "metadata": {
        "id": "aKuM_xkXnVMl",
        "colab_type": "text"
      },
      "source": [
        "Downloading and unzipping EuroSAT database : https://arxiv.org/abs/1709.00029\n",
        "(2500-3000) x 10 x 64 x 64 px RGB Sentinel 2 images.\n",
        "\n",
        "This below mentioned code block is taken from the code by [RomainHugues](https://https://github.com/RomainHugues/EuroSat/blob/master/EuroSAT.ipynb)\n"
      ]
    },
    {
      "cell_type": "code",
      "metadata": {
        "id": "MUMkZyiBnLhX",
        "colab_type": "code",
        "outputId": "a0ae922f-8a5e-43f6-8ab3-b2f46ecf21e1",
        "colab": {
          "base_uri": "https://localhost:8080/",
          "height": 51
        }
      },
      "source": [
        "# Flags\n",
        "#data_folder = '/content/sample_data/'\n",
        "#basepath = data_folder+'2750/'\n",
        "#SUBDIR = '2750/'\n",
        "#root = os.path.join(data_folder, SUBDIR)\n",
        "root = 'ds/images/remote_sensing/otherDatasets/sentinel_2/tif/'\n",
        "download_ON = os.path.exists(root)\n",
        "\n",
        "if not download_ON:\n",
        "    \n",
        "    # This can be long...\n",
        "    os.chdir(data_folder)\n",
        "    #os.system('wget http://madm.dfki.de/files/sentinel/EuroSAT.zip') #Just RGB Bands\n",
        "    os.system('wget http://madm.dfki.de/files/sentinel/EuroSATallBands.zip') #All bands\n",
        "    !unzip EuroSATallBands.zip\n",
        "    download_ON = True"
      ],
      "execution_count": 20,
      "outputs": [
        {
          "output_type": "stream",
          "text": [
            "Archive:  EuroSATallBands.zip\n",
            "replace ds/images/remote_sensing/otherDatasets/sentinel_2/tif/PermanentCrop/PermanentCrop_1619.tif? [y]es, [n]o, [A]ll, [N]one, [r]ename: N\n"
          ],
          "name": "stdout"
        }
      ]
    },
    {
      "cell_type": "code",
      "metadata": {
        "id": "nIeCE6YXrynl",
        "colab_type": "code",
        "colab": {}
      },
      "source": [
        "def iloader(path):\n",
        "    # open path as file to avoid ResourceWarning (https://github.com/python-pillow/Pillow/issues/835)\n",
        "    with rasterio.open(path) as f:\n",
        "        imgc = f.read()\n",
        "        imga = np.array(imgc[:10,:,:])\n",
        "        imgb = np.array(imgc[11:,:,:]) # Numpy Img convention: HxWxC\n",
        "        imgc = np.asarray(np.vstack([imga,imgb])/32000, dtype=np.float32)#.reshape((64, 64, 12))# imgc.max()\n",
        "        if random.random() > 0.3:\n",
        "            imgc = random_crop_area(imgc)\n",
        "        return imgc"
      ],
      "execution_count": 0,
      "outputs": []
    },
    {
      "cell_type": "code",
      "metadata": {
        "id": "69LQLK-auqnm",
        "colab_type": "code",
        "colab": {}
      },
      "source": [
        "#root = 'ds/images/remote_sensing/otherDatasets/sentinel_2/tif/'\n",
        "#allpp = os.listdir(root)"
      ],
      "execution_count": 0,
      "outputs": []
    },
    {
      "cell_type": "code",
      "metadata": {
        "id": "V_0iiyZkLjCm",
        "colab_type": "code",
        "colab": {
          "base_uri": "https://localhost:8080/",
          "height": 34
        },
        "outputId": "acb0291f-584a-484a-ada4-343fe262d717"
      },
      "source": [
        "print(allpp[1])"
      ],
      "execution_count": 23,
      "outputs": [
        {
          "output_type": "stream",
          "text": [
            "AnnualCrop\n"
          ],
          "name": "stdout"
        }
      ]
    },
    {
      "cell_type": "code",
      "metadata": {
        "id": "S48KlqDHtqjA",
        "colab_type": "code",
        "colab": {}
      },
      "source": [
        "#with rasterio.open(os.path.join(basepath,1) as f:\n",
        "#  imgc = f.read()"
      ],
      "execution_count": 0,
      "outputs": []
    },
    {
      "cell_type": "code",
      "metadata": {
        "id": "PDElcOMWRwIv",
        "colab_type": "code",
        "colab": {
          "base_uri": "https://localhost:8080/",
          "height": 34
        },
        "outputId": "0a2a35bc-4d03-4674-f2e2-2665c4484900"
      },
      "source": [
        "data = torchvision.datasets.DatasetFolder(root=root,loader = iloader, transform=None, extensions = 'tif')\n",
        "len(data)"
      ],
      "execution_count": 25,
      "outputs": [
        {
          "output_type": "execute_result",
          "data": {
            "text/plain": [
              "27000"
            ]
          },
          "metadata": {
            "tags": []
          },
          "execution_count": 25
        }
      ]
    },
    {
      "cell_type": "code",
      "metadata": {
        "id": "6O3Qper7obov",
        "colab_type": "code",
        "colab": {}
      },
      "source": [
        "def Load_data():\n",
        "    #Eurosat_dataset = datasets.ImageFolder(root='E:\\EuroSatRGB/', transform=data_transform)\n",
        "    data = torchvision.datasets.DatasetFolder(root=root,loader = iloader, transform=None, extensions = 'tif')\n",
        "    train_set, val_set = train_test_split(data, test_size=0.2, stratify=data.targets)\n",
        "    #print(np.unique(train_set, return_counts=True))  #uncomment for class IDs\n",
        "    #print(np.unique(val_set, return_counts=True))    #uncomment for class IDs\n",
        "      \n",
        "    train_loader = torch.utils.data.DataLoader(train_set, batch_size=16, shuffle=True, num_workers=3, drop_last = True)\n",
        "    val_loader = torch.utils.data.DataLoader(val_set, batch_size=16, shuffle=True, num_workers=0, drop_last = True)\n",
        "    #test_loader = torch.utils.data.DataLoader(test_set, batch_size=128, shuffle=True, num_workers=0, drop_last = True)\n",
        "    return train_loader, val_loader"
      ],
      "execution_count": 0,
      "outputs": []
    },
    {
      "cell_type": "code",
      "metadata": {
        "id": "MUn6ClNbsDCU",
        "colab_type": "code",
        "colab": {}
      },
      "source": [
        "def get_random_pos(img, window_shape = [55,55] ):\n",
        "    \"\"\" Extract of 2D random patch of shape window_shape in the image \"\"\"\n",
        "    w, h = window_shape\n",
        "    W, H = img.shape[-2:]\n",
        "    x1 = random.randint(0, W - w - 1)\n",
        "    #x2 = x1 + w\n",
        "    y1 = random.randint(0, H - h - 1)\n",
        "    #y2 = y1 + h\n",
        "    return x1, x1 + w, y1, y1 + h #x1, x2, y1, y2\n",
        "\n",
        "def random_crop_area(img):\n",
        "    x1,x2,y1,y2 = get_random_pos(img)\n",
        "    Sen_Im = img[:, x1:x2,y1:y2]\n",
        "    return resize(Sen_Im,img.shape,anti_aliasing=True)"
      ],
      "execution_count": 0,
      "outputs": []
    },
    {
      "cell_type": "code",
      "metadata": {
        "id": "OMA3QKW_qe-x",
        "colab_type": "code",
        "colab": {}
      },
      "source": [
        "def Load_model():\n",
        "    model_ft = models.resnet18()#pretrained=True)\n",
        "    num_ftrs = model_ft.fc.in_features\n",
        "    model_ft.fc = nn.Linear(num_ftrs, 10)\n",
        "    model_ft.conv1 = nn.Conv2d(12, 64, kernel_size=7, stride=2, padding = 3, bias = False)\n",
        "    print('Model Loaded')\n",
        "    return model_ft"
      ],
      "execution_count": 0,
      "outputs": []
    },
    {
      "cell_type": "code",
      "metadata": {
        "id": "t0DHlZDMrCjs",
        "colab_type": "code",
        "colab": {}
      },
      "source": [
        "def accuracy(gt_S,pred_S):       \n",
        "    #gt_S  =np.asarray(gt_S) #will round to the nearest even number\n",
        "    #pred_S=np.round(pred_S)      \n",
        "    #f1s = f1_score(gt_S,pred_S,average = 'samples')\n",
        "    #f1m = f1_score(gt_S,pred_S,average = 'macro')\n",
        "    #print('f1MacroScore{}'.format(f1m))\n",
        "    #pos = np.argmax(pred_S,axis = 1)\n",
        "    #alpha = np.zeros(pred_S.shape)\n",
        "    #alpha[pos]=1\n",
        "    _, alp = torch.max(torch.from_numpy(pred_S), 1)\n",
        "    return accuracy_score(gt_S,np.asarray(alp))#np.mean(F1score)"
      ],
      "execution_count": 0,
      "outputs": []
    },
    {
      "cell_type": "code",
      "metadata": {
        "id": "O1b_BTGsrNQG",
        "colab_type": "code",
        "colab": {}
      },
      "source": [
        "def validation(model, test_,):\n",
        "    model.eval()\n",
        "    #tot_acc=[]\n",
        "    test_iter=0\n",
        "    with torch.no_grad():\n",
        "        for batch_idx, (data, target) in enumerate(test_):\n",
        "            #data, target = Variable(data.cuda()), Variable(torch.nn.functional.one_hot(target,10).type(torch.cuda.FloatTensor))\n",
        "            #data, target = Variable(data.type(torch.cuda.FloatTensor)), Variable(torch.nn.functional.one_hot(target,10).type(torch.cuda.FloatTensor))\n",
        "            data, target = cus_aug(Variable(data.cuda())), Variable(target.cuda())\n",
        "            output = model(data)\n",
        "            _, pred = torch.max(output, 1)\n",
        "            pred = output.data.cpu().numpy()#[0]\n",
        "            #pred=sigmoid(pred)\n",
        "            gt = target.data.cpu().numpy()\n",
        "            if test_iter==0:\n",
        "                all_pred=pred\n",
        "                all_gt=gt\n",
        "            else:\n",
        "                all_pred=np.vstack((all_pred,pred))\n",
        "                all_gt  =np.vstack((all_gt,gt))\n",
        "\n",
        "            test_iter=test_iter+1\n",
        "        acc=accuracy(all_gt.reshape(all_gt.shape[0] * all_gt.shape[1]),all_pred)\n",
        "        model.train()\n",
        "        return acc#,cm"
      ],
      "execution_count": 0,
      "outputs": []
    },
    {
      "cell_type": "code",
      "metadata": {
        "id": "nI53aBstrXw9",
        "colab_type": "code",
        "colab": {}
      },
      "source": [
        "def sigmoid(z):\n",
        "    return 1/(1+np.exp(-z))\n",
        "\n",
        "def cus_aug(data):\n",
        "    data = torch.rot90(data,random.randint(-3,3), dims=random.choice([[3,2],[2,3]]))\n",
        "    if random.random()>0.75:\n",
        "        data = torch.flip(data, dims = random.choice([[2,],[3,],[2,3]]))\n",
        "    pixmis = torch.empty_like(data).random_(data.shape[-1])\n",
        "    pixmis = torch.where(pixmis>(data.shape[-1]/8),torch.ones_like(data),torch.zeros_like(data))\n",
        "    return data* pixmis"
      ],
      "execution_count": 0,
      "outputs": []
    },
    {
      "cell_type": "code",
      "metadata": {
        "id": "klA5FBADrdQ2",
        "colab_type": "code",
        "colab": {}
      },
      "source": [
        "def train(net, train_, val_, criterion, optimizer, epochs, scheduler=None, weights=None, save_epoch = 1):\n",
        "    losses=[]; acc=[]; mean_losses=[]; val_acc=[]\n",
        "    iter_ = t0 =0\n",
        "    for e in range(1, epochs + 1):\n",
        "        net.train()\n",
        "        ct = 0\n",
        "        if e < 0:\n",
        "            for child in net.children():\n",
        "                ct += 1\n",
        "                print(ct,child)\n",
        "                if ct < 9:\n",
        "                    for param in child.parameters():\n",
        "                        param.requires_grad = False\n",
        "        \n",
        "        for batch_idx, (data, target) in enumerate(train_):\n",
        "            #data, target = Variable(data.cuda()), Variable(torch.tensor(torch.nn.functional.one_hot(target,10), dtype=torch.float).cuda())\n",
        "            #data, target = Variable(data.cuda()), Variable(torch.nn.functional.one_hot(target,10).type(torch.cuda.FloatTensor))\n",
        "            #data, target = Variable(data.type(torch.cuda.FloatTensor)), Variable(torch.nn.functional.one_hot(target,10).type(torch.cuda.FloatTensor))\n",
        "            #data, target = Variable(data.type(torch.cuda.FloatTensor)), Variable(target.type(torch.cuda.FloatTensor))\n",
        "            #data, target = Variable(data.cuda()), Variable(torch.nn.functional.one_hot(target,10).type(torch.cuda.FloatTensor))\n",
        "            data, target =  cus_aug(Variable(data.cuda())), Variable(target.cuda()),\n",
        "            optimizer.zero_grad()\n",
        "            output = net(data)\n",
        "            #_, output = torch.max(outputs, 1)\n",
        "            #output = torch.nn.functional.one_hot(output,10).type(torch.cuda.FloatTensor)\n",
        "            loss = criterion(output, target)\n",
        "            loss.backward()\n",
        "            optimizer.step()\n",
        "            losses = np.append(losses,loss.item())\n",
        "            mean_losses = np.append(mean_losses, np.mean(losses[max(0,iter_-100):iter_]))\n",
        "            \n",
        "            if iter_ % 600 == 0:\n",
        "                clear_output()\n",
        "                print('Iteration Number',iter_,'{} seconds'.format(time.time() - t0))\n",
        "                t0 = time.time()\n",
        "                pred = output.data.cpu().numpy()#[0]\n",
        "                pred=sigmoid(pred)\n",
        "                gt = target.data.cpu().numpy()#[0]\n",
        "                acc = np.append(acc,accuracy(gt,pred))\n",
        "                print('Train (epoch {}/{}) [{}/{} ({:.0f}%)]\\tLoss: {:.6f}\\tAccuracy: {}\\tLearning Rate:{}'.format(\n",
        "                    e, epochs, batch_idx, len(train_),\n",
        "                    100. * batch_idx / len(train_), loss.item(), acc[-1],optimizer.param_groups[0]['lr']))\n",
        "                plt.plot(mean_losses) and plt.show()\n",
        "                val_acc = np.append(val_acc,validation(net, val_))\n",
        "                print('validation accuracy : {}'.format(val_acc[-1]))\n",
        "                plt.plot( range(len(acc)) ,acc,'b',label = 'training')\n",
        "                plt.plot( range(len(val_acc)), val_acc,'r--',label = 'validation')\n",
        "                plt.legend() and plt.show()\n",
        "                #print(mylabels[np.where(gt[1,:])[0]])\n",
        "            iter_ += 1\n",
        "            \n",
        "            del(data, target, loss)\n",
        "        if scheduler is not None:\n",
        "           scheduler.step(val_acc[-1])\n",
        "        if e % save_epoch == 0:\n",
        "            \n",
        "            torch.save(net.state_dict(), '.\\Eurosat_resNEXT_freeze_transfferlearning{}'.format(e))\n",
        "    return net"
      ],
      "execution_count": 0,
      "outputs": []
    },
    {
      "cell_type": "code",
      "metadata": {
        "id": "W4VZLxZerkFg",
        "colab_type": "code",
        "colab": {
          "base_uri": "https://localhost:8080/",
          "height": 564
        },
        "outputId": "363a3c0b-3206-4f30-aecb-bf5aecebb886"
      },
      "source": [
        "if __name__ == '__main__':#https://discuss.pytorch.org/t/brokenpipeerror-errno-32-broken-pipe-when-i-run-cifar10-tutorial-py/6224/4\n",
        "    #net = ResNet34() #Mughees: Just use Resnet18 or Resnet34     \n",
        "    torch.manual_seed(0)\n",
        "    np.random.seed(0)\n",
        "    torch.cuda.manual_seed(0)\n",
        "    random.seed(0)\n",
        "\n",
        "    #criteria=nn.BCEWithLogitsLoss()#pos_weight = LABELS_WEIGHTS)\n",
        "    #criteria = torch.nn.BCELoss()#.cuda()\n",
        "    criteria = torch.nn.CrossEntropyLoss()\n",
        "    #base_lr = 0.001\n",
        "    #train_loader,val_loader, test_loader = loader()\n",
        "    #optimizer = optim.Adam(net.parameters(), lr=base_lr)\n",
        "    # We define the scheduler\n",
        "    net = Load_model()\n",
        "    train_loader, val_loader =Load_data()\n",
        "    \n",
        "    net=net.cuda()\n",
        "    #pretrained_dict = torch.load('./FOR EUROSAT BigearthNet_ResNet18_92')\n",
        "    #pretrained_dict = torch.load('./BigearthNet_ResNext_WRS_withseedwithposweight61')\n",
        "    \n",
        "#    #pretrained_dict = torch.load('./BigearthNet_added_resnet50_42')\n",
        "#    del pretrained_dict['fc.weight']\n",
        "#    del pretrained_dict['fc.bias']\n",
        "#    #pretrained_dict = {k: v for k, v in pretrained_dict.items() if k in model_dict}\n",
        "#    model_dict = net.state_dict()\n",
        "#    model_dict.update(pretrained_dict)\n",
        "#    net.load_state_dict(model_dict)\n",
        "    #optimizer = optim.SGD(net.parameters(), lr=0.00001, momentum=0.90, weight_decay=0.0005)\n",
        "    optimizer = optim.Adam(filter(lambda p: p.requires_grad, net.parameters()), lr=0.001, betas=(0.9, 0.999), eps=1e-08, weight_decay=0, amsgrad=False)\n",
        "    #scheduler = optim.lr_scheduler.MultiStepLR(optimizer, milestones=[40,45,49], gamma=0.1)\n",
        "    scheduler = torch.optim.lr_scheduler.ReduceLROnPlateau(optimizer, 'max', patience=4, verbose=False)\n",
        "    #scheduler = torch.optim.lr_scheduler.CyclicLR(optimizer, base_lr=0.00001, max_lr=0.1,cycle_momentum=True)\n",
        "\n",
        "    net = train(net, train_loader, val_loader, criteria, optimizer,50,scheduler)\n",
        "    #test_loader=torch.utils.data.DataLoader(test_loader,batch_size=128)\n",
        "    #test_accuracy = test(net, test_loader)\n",
        "    #print('Test Accuracy: {}'.format(test_accuracy))       \n"
      ],
      "execution_count": 0,
      "outputs": [
        {
          "output_type": "stream",
          "text": [
            "Iteration Number 56400 16.543501377105713 seconds\n",
            "Train (epoch 42/50) [1050/1350 (78%)]\tLoss: 0.066503\tAccuracy: 1.0\tLearning Rate:1e-05\n"
          ],
          "name": "stdout"
        },
        {
          "output_type": "display_data",
          "data": {
            "image/png": "[encoded data removed]",
            "text/plain": [
              "<Figure size 432x288 with 1 Axes>"
            ]
          },
          "metadata": {
            "tags": []
          }
        },
        {
          "output_type": "stream",
          "text": [
            "validation accuracy : 0.973293768545994\n"
          ],
          "name": "stdout"
        },
        {
          "output_type": "display_data",
          "data": {
            "image/png": "[encoded data removed]",
            "text/plain": [
              "<Figure size 432x288 with 1 Axes>"
            ]
          },
          "metadata": {
            "tags": []
          }
        }
      ]
    },
    {
      "cell_type": "code",
      "metadata": {
        "id": "n78SbktRtZbQ",
        "colab_type": "code",
        "colab": {}
      },
      "source": [
        ""
      ],
      "execution_count": 0,
      "outputs": []
    }
  ]
}